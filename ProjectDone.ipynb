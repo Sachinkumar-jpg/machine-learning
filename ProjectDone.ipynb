{
  "nbformat": 4,
  "nbformat_minor": 0,
  "metadata": {
    "colab": {
      "provenance": [],
      "authorship_tag": "ABX9TyN57AaQN4gPYJoMukTRcBmG",
      "include_colab_link": true
    },
    "kernelspec": {
      "name": "python3",
      "display_name": "Python 3"
    },
    "language_info": {
      "name": "python"
    }
  },
  "cells": [
    {
      "cell_type": "markdown",
      "metadata": {
        "id": "view-in-github",
        "colab_type": "text"
      },
      "source": [
        "<a href=\"https://colab.research.google.com/github/Sachinkumar-jpg/machine-learning/blob/main/ProjectDone.ipynb\" target=\"_parent\"><img src=\"https://colab.research.google.com/assets/colab-badge.svg\" alt=\"Open In Colab\"/></a>"
      ]
    },
    {
      "cell_type": "code",
      "execution_count": 82,
      "metadata": {
        "id": "SXcrxRkDXnRk"
      },
      "outputs": [],
      "source": [
        "import tensorflow as tf\n",
        "from sklearn.metrics import mean_squared_error, r2_score\n",
        "from sklearn.model_selection import cross_val_score\n",
        "#from sklearn.model_selection import GridSearchCV, cross_val_score\n",
        "from sklearn.model_selection import train_test_split\n",
        "from sklearn.preprocessing import StandardScaler\n",
        "import matplotlib.pyplot as plt\n",
        "from sklearn.ensemble import RandomForestRegressor, GradientBoostingRegressor\n",
        "from sklearn.linear_model import LinearRegression\n",
        "from sklearn.tree import DecisionTreeRegressor\n",
        "from sklearn.metrics import mean_squared_error, r2_score\n",
        "\n",
        "from sklearn.model_selection import train_test_split\n",
        "import pandas as pd\n",
        "from sklearn.preprocessing import LabelEncoder\n",
        "import numpy as np\n",
        "from sklearn.preprocessing import MinMaxScaler, StandardScaler\n",
        "\n",
        "\n",
        "# Load your dataset (replace 'your_dataset.csv' with the actual file path)\n",
        "data = pd.read_csv('/content/train.csv')\n"
      ]
    },
    {
      "cell_type": "code",
      "source": [
        "# Step 1: Identify features with missing values\n",
        "missing_values = data.isnull().sum()\n",
        "\n",
        "# Step 2: Decide on an appropriate strategy for each feature\n",
        "for feature, missing_count in missing_values.iteritems():\n",
        "    if missing_count > 0:\n",
        "        print(f\"Feature '{feature}' has {missing_count} missing values.\")\n",
        "\n",
        "        # Decide on a strategy:\n",
        "        # Example 1: Impute missing values with the mean\n",
        "        if data[feature].dtype == 'float64':\n",
        "            mean_value = data[feature].mean()\n",
        "            data[feature].fillna(mean_value, inplace=True)\n",
        "            print(f\"Strategy: Imputed missing values with mean value {mean_value}\")\n",
        "\n",
        "        # Example 2: Delete rows with missing values\n",
        "        # data.dropna(subset=[feature], inplace=True)\n",
        "        # print(\"Strategy: Deleted rows with missing values\")\n",
        "\n",
        "        # You can define other strategies as needed\n",
        "\n",
        "# Optionally, save the modified dataset to a new file\n",
        "# data.to_csv('new_dataset.csv', index=False)"
      ],
      "metadata": {
        "colab": {
          "base_uri": "https://localhost:8080/"
        },
        "id": "UaULKvI_nTBD",
        "outputId": "70b72160-77f4-4037-8d46-a5ffe9a7b64f"
      },
      "execution_count": 51,
      "outputs": [
        {
          "output_type": "stream",
          "name": "stderr",
          "text": [
            "<ipython-input-51-28954ceccef7>:5: FutureWarning: iteritems is deprecated and will be removed in a future version. Use .items instead.\n",
            "  for feature, missing_count in missing_values.iteritems():\n"
          ]
        }
      ]
    },
    {
      "cell_type": "code",
      "source": [
        "column_to_remove = 'Id'  # Replace 'column_name' with the actual column name\n",
        "\n",
        "# Remove the specified column from the dataset\n",
        "data = data.drop(columns=[column_to_remove])\n",
        "\n",
        "# Optionally, save the modified dataset to a new file\n",
        "data.to_csv('dataset_without_column.csv', index=False)"
      ],
      "metadata": {
        "id": "Wg9mg3dYmM6l"
      },
      "execution_count": 45,
      "outputs": []
    },
    {
      "cell_type": "code",
      "source": [
        "label_encoder = LabelEncoder()\n",
        "\n",
        "# Iterate through columns and encode non-numeric values\n",
        "for column in data.columns:\n",
        "    if data[column].dtype == 'object':\n",
        "        data[column] = label_encoder.fit_transform(data[column])\n",
        "\n",
        "# Optionally, save the encoded dataset to a new file\n",
        "data.to_csv('encoded_dataset.csv', index=False)"
      ],
      "metadata": {
        "id": "iV2_GB7UYteI"
      },
      "execution_count": 46,
      "outputs": []
    },
    {
      "cell_type": "code",
      "source": [
        "data_filled = data.fillna(data.mean())\n",
        "\n",
        "# Optionally, save the dataset with missing values filled to a new file\n",
        "data_filled.to_csv('filled_dataset.csv', index=False)"
      ],
      "metadata": {
        "id": "FbOGMyR-ZfGa"
      },
      "execution_count": 47,
      "outputs": []
    },
    {
      "cell_type": "code",
      "source": [
        "z_score_threshold = 3.0\n",
        "\n",
        "# Calculate the Z-scores for each column\n",
        "z_scores = np.abs((data - data.mean()) / data.std())\n",
        "\n",
        "# Find rows with any Z-score exceeding the threshold\n",
        "outlier_rows = z_scores[(z_scores > z_score_threshold).any(axis=1)].index\n",
        "\n",
        "# Remove outliers from the dataset\n",
        "data_no_outliers = data.drop(outlier_rows)\n",
        "\n",
        "# Optionally, save the dataset without outliers to a new file\n",
        "data_no_outliers.to_csv('data_no_outliers.csv', index=False)"
      ],
      "metadata": {
        "id": "hRR7yk3_aJR7"
      },
      "execution_count": 52,
      "outputs": []
    },
    {
      "cell_type": "markdown",
      "source": [
        "to detect the catagorical column"
      ],
      "metadata": {
        "id": "hMLiO-4-bP1M"
      }
    },
    {
      "cell_type": "code",
      "source": [
        "categorical_columns = data.select_dtypes(include=['object']).columns\n",
        "\n",
        "# Print or use the list of categorical column names\n",
        "print(\"Categorical Columns:\")\n",
        "for column in categorical_columns:\n",
        "    print(column)"
      ],
      "metadata": {
        "colab": {
          "base_uri": "https://localhost:8080/"
        },
        "id": "EQrfTJsUa93G",
        "outputId": "f49c4544-14c7-4ec0-8fc0-2a87512eb9a7"
      },
      "execution_count": 53,
      "outputs": [
        {
          "output_type": "stream",
          "name": "stdout",
          "text": [
            "Categorical Columns:\n"
          ]
        }
      ]
    },
    {
      "cell_type": "code",
      "source": [
        "# Select the numerical columns for normalization or standardization\n",
        "numerical_columns = data.select_dtypes(include=['float64', 'int64']).columns\n",
        "\n",
        "# Apply Min-Max normalization to the numerical columns\n",
        "scaler_minmax = MinMaxScaler()\n",
        "data[numerical_columns] = scaler_minmax.fit_transform(data[numerical_columns])\n",
        "\n",
        "# Optionally, save the dataset with Min-Max normalized values to a new file\n",
        "# data.to_csv('minmax_normalized_dataset.csv', index=False)\n",
        "\n",
        "# Apply Z-score standardization to the numerical columns\n",
        "scaler_standard = StandardScaler()\n",
        "data[numerical_columns] = scaler_standard.fit_transform(data[numerical_columns])\n",
        "\n",
        "# Optionally, save the dataset with Z-score standardized values to a new file\n",
        "data.to_csv('standardized_dataset.csv', index=False)"
      ],
      "metadata": {
        "id": "etT8pWyxbgEE"
      },
      "execution_count": 54,
      "outputs": []
    },
    {
      "cell_type": "markdown",
      "source": [
        "split data set"
      ],
      "metadata": {
        "id": "cct7RgKKc-zn"
      }
    },
    {
      "cell_type": "code",
      "source": [
        "data = pd.read_csv('/content/standardized_dataset.csv')\n",
        "X = data.drop(columns=['SalePrice'])  # Replace 'target_column' with the actual target column name\n",
        "y = data['SalePrice']\n",
        "\n",
        "# Split the data into training and validation sets\n",
        "X_train, X_valid, y_train, y_valid = train_test_split(X, y, test_size=0.2, random_state=42)\n",
        "\n",
        "# Create a Linear Regression model\n",
        "model = LinearRegression()\n",
        "\n",
        "# Train the model on the training data\n",
        "model.fit(X_train, y_train)\n",
        "\n",
        "# Make predictions on the validation data\n",
        "y_pred = model.predict(X_valid)\n",
        "\n",
        "# Calculate and print the model's performance metrics\n",
        "mse = mean_squared_error(y_valid, y_pred)\n",
        "mae = np.sqrt(mse)\n",
        "r2 = r2_score(y_valid, y_pred)\n",
        "\n",
        "print(f\"Mean Squared Error: {mse:.2f}\")\n",
        "print(f\"Mean Absolute Error: {mae:.2f}\")\n",
        "print(f\"R-squared (R2): {r2:.2f}\")"
      ],
      "metadata": {
        "colab": {
          "base_uri": "https://localhost:8080/"
        },
        "id": "nrtG8izPdB-i",
        "outputId": "f6892167-7c70-4b23-f30d-514fe25b9fb0"
      },
      "execution_count": 69,
      "outputs": [
        {
          "output_type": "stream",
          "name": "stdout",
          "text": [
            "Mean Squared Error: 0.19\n",
            "Mean Absolute Error: 0.44\n",
            "R-squared (R2): 0.84\n"
          ]
        }
      ]
    },
    {
      "cell_type": "markdown",
      "source": [
        "decision tree model"
      ],
      "metadata": {
        "id": "wY-yg-lAe3qf"
      }
    },
    {
      "cell_type": "code",
      "source": [
        "model = DecisionTreeRegressor(max_depth=5)  # You can adjust the max_depth parameter\n",
        "\n",
        "# Train the model on the training data\n",
        "model.fit(X_train, y_train)\n",
        "\n",
        "# Make predictions on the validation data\n",
        "y_pred = model.predict(X_valid)\n",
        "\n",
        "# Calculate and print the model's performance metrics\n",
        "mse = mean_squared_error(y_valid, y_pred)\n",
        "mae = np.sqrt(mse)\n",
        "r2 = r2_score(y_valid, y_pred)\n",
        "\n",
        "print(f\"Mean Squared Error: {mse:.2f}\")\n",
        "print(f\"Mean Absolute Error: {mae:.2f}\")\n",
        "print(f\"R-squared (R2): {r2:.2f}\")"
      ],
      "metadata": {
        "colab": {
          "base_uri": "https://localhost:8080/"
        },
        "id": "lthvdCZGe6il",
        "outputId": "ef44c97c-e56c-495c-ee8f-46e345b015c4"
      },
      "execution_count": 71,
      "outputs": [
        {
          "output_type": "stream",
          "name": "stdout",
          "text": [
            "Mean Squared Error: 0.24\n",
            "Mean Absolute Error: 0.49\n",
            "R-squared (R2): 0.81\n"
          ]
        }
      ]
    },
    {
      "cell_type": "markdown",
      "source": [
        "Random Forest, Gradient Boosting"
      ],
      "metadata": {
        "id": "9Pnkh7uofzNe"
      }
    },
    {
      "cell_type": "code",
      "source": [
        "# Random Forest Regression\n",
        "random_forest_model = RandomForestRegressor(n_estimators=100, random_state=42)\n",
        "random_forest_model.fit(X_train, y_train)\n",
        "rf_y_pred = random_forest_model.predict(X_valid)\n",
        "\n",
        "# Gradient Boosting Regression\n",
        "gradient_boosting_model = GradientBoostingRegressor(n_estimators=100, random_state=42)\n",
        "gradient_boosting_model.fit(X_train, y_train)\n",
        "gb_y_pred = gradient_boosting_model.predict(X_valid)\n",
        "\n",
        "# Evaluate Random Forest Regression\n",
        "rf_mse = mean_squared_error(y_valid, rf_y_pred)\n",
        "rf_mae = np.sqrt(rf_mse)\n",
        "rf_r2 = r2_score(y_valid, rf_y_pred)\n",
        "\n",
        "# Evaluate Gradient Boosting Regression\n",
        "gb_mse = mean_squared_error(y_valid, gb_y_pred)\n",
        "gb_mae = np.sqrt(gb_mse)\n",
        "gb_r2 = r2_score(y_valid, gb_y_pred)\n",
        "\n",
        "print(\"Random Forest Regression:\")\n",
        "print(f\"Mean Squared Error: {rf_mse:.2f}\")\n",
        "print(f\"Mean Absolute Error: {rf_mae:.2f}\")\n",
        "print(f\"R-squared (R2): {rf_r2:.2f}\")\n",
        "\n",
        "print(\"\\nGradient Boosting Regression:\")\n",
        "print(f\"Mean Squared Error: {gb_mse:.2f}\")\n",
        "print(f\"Mean Absolute Error: {gb_mae:.2f}\")\n",
        "print(f\"R-squared (R2): {gb_r2:.2f}\")"
      ],
      "metadata": {
        "colab": {
          "base_uri": "https://localhost:8080/"
        },
        "id": "aIL9s52Jf1yw",
        "outputId": "c30dd7d6-a83e-40f6-fb33-0d4d3ab77d7d"
      },
      "execution_count": 72,
      "outputs": [
        {
          "output_type": "stream",
          "name": "stdout",
          "text": [
            "Random Forest Regression:\n",
            "Mean Squared Error: 0.13\n",
            "Mean Absolute Error: 0.36\n",
            "R-squared (R2): 0.90\n",
            "\n",
            "Gradient Boosting Regression:\n",
            "Mean Squared Error: 0.13\n",
            "Mean Absolute Error: 0.36\n",
            "R-squared (R2): 0.89\n"
          ]
        }
      ]
    },
    {
      "cell_type": "markdown",
      "source": [
        "neural network"
      ],
      "metadata": {
        "id": "OjJ2vyXagwBG"
      }
    },
    {
      "cell_type": "code",
      "source": [
        "scaler = StandardScaler()\n",
        "X_train = scaler.fit_transform(X_train)\n",
        "X_valid = scaler.transform(X_valid)\n",
        "\n",
        "# Create a simple neural network using Keras\n",
        "model = tf.keras.Sequential([\n",
        "    tf.keras.layers.Dense(64, activation='relu', input_shape=(X_train.shape[1],)),\n",
        "    tf.keras.layers.Dense(32, activation='relu'),\n",
        "    tf.keras.layers.Dense(1)  # Output layer for regression\n",
        "])\n",
        "\n",
        "# Compile the model\n",
        "model.compile(optimizer='adam', loss='mean_squared_error')\n",
        "\n",
        "# Train the model on the training data\n",
        "history = model.fit(X_train, y_train, epochs=100, batch_size=32, validation_data=(X_valid, y_valid), verbose=2)\n",
        "\n",
        "# Make predictions on the validation data\n",
        "y_pred = model.predict(X_valid)\n",
        "\n",
        "# Calculate and print the model's performance metrics\n",
        "mse = mean_squared_error(y_valid, y_pred)\n",
        "mae = np.sqrt(mse)\n",
        "r2 = r2_score(y_valid, y_pred)\n",
        "\n",
        "print(f\"Mean Squared Error: {mse:.2f}\")\n",
        "print(f\"Mean Absolute Error: {mae:.2f}\")\n",
        "print(f\"R-squared (R2): {r2:.2f}\")\n",
        "\n",
        "# Visualize the loss over training epochs\n",
        "plt.plot(history.history['loss'], label='Training Loss')\n",
        "plt.plot(history.history['val_loss'], label='Validation Loss')\n",
        "plt.xlabel('Epochs')\n",
        "plt.ylabel('Loss')\n",
        "plt.legend()\n",
        "plt.show()"
      ],
      "metadata": {
        "colab": {
          "base_uri": "https://localhost:8080/",
          "height": 1000
        },
        "id": "2NebODryg01T",
        "outputId": "bedb1bd1-9c59-4492-907b-aa8670803f0b"
      },
      "execution_count": 75,
      "outputs": [
        {
          "output_type": "stream",
          "name": "stdout",
          "text": [
            "Epoch 1/100\n",
            "37/37 - 1s - loss: 0.7465 - val_loss: 0.3294 - 806ms/epoch - 22ms/step\n",
            "Epoch 2/100\n",
            "37/37 - 0s - loss: 0.2574 - val_loss: 0.2498 - 107ms/epoch - 3ms/step\n",
            "Epoch 3/100\n",
            "37/37 - 0s - loss: 0.1834 - val_loss: 0.2462 - 93ms/epoch - 3ms/step\n",
            "Epoch 4/100\n",
            "37/37 - 0s - loss: 0.1408 - val_loss: 0.2290 - 104ms/epoch - 3ms/step\n",
            "Epoch 5/100\n",
            "37/37 - 0s - loss: 0.1067 - val_loss: 0.2143 - 96ms/epoch - 3ms/step\n",
            "Epoch 6/100\n",
            "37/37 - 0s - loss: 0.0896 - val_loss: 0.2078 - 100ms/epoch - 3ms/step\n",
            "Epoch 7/100\n",
            "37/37 - 0s - loss: 0.0747 - val_loss: 0.2032 - 86ms/epoch - 2ms/step\n",
            "Epoch 8/100\n",
            "37/37 - 0s - loss: 0.0634 - val_loss: 0.2006 - 96ms/epoch - 3ms/step\n",
            "Epoch 9/100\n",
            "37/37 - 0s - loss: 0.0556 - val_loss: 0.2018 - 98ms/epoch - 3ms/step\n",
            "Epoch 10/100\n",
            "37/37 - 0s - loss: 0.0496 - val_loss: 0.1982 - 91ms/epoch - 2ms/step\n",
            "Epoch 11/100\n",
            "37/37 - 0s - loss: 0.0440 - val_loss: 0.1972 - 95ms/epoch - 3ms/step\n",
            "Epoch 12/100\n",
            "37/37 - 0s - loss: 0.0396 - val_loss: 0.1939 - 99ms/epoch - 3ms/step\n",
            "Epoch 13/100\n",
            "37/37 - 0s - loss: 0.0359 - val_loss: 0.1921 - 98ms/epoch - 3ms/step\n",
            "Epoch 14/100\n",
            "37/37 - 0s - loss: 0.0321 - val_loss: 0.1897 - 99ms/epoch - 3ms/step\n",
            "Epoch 15/100\n",
            "37/37 - 0s - loss: 0.0280 - val_loss: 0.1877 - 89ms/epoch - 2ms/step\n",
            "Epoch 16/100\n",
            "37/37 - 0s - loss: 0.0240 - val_loss: 0.1917 - 102ms/epoch - 3ms/step\n",
            "Epoch 17/100\n",
            "37/37 - 0s - loss: 0.0221 - val_loss: 0.1898 - 96ms/epoch - 3ms/step\n",
            "Epoch 18/100\n",
            "37/37 - 0s - loss: 0.0210 - val_loss: 0.1898 - 89ms/epoch - 2ms/step\n",
            "Epoch 19/100\n",
            "37/37 - 0s - loss: 0.0200 - val_loss: 0.1889 - 97ms/epoch - 3ms/step\n",
            "Epoch 20/100\n",
            "37/37 - 0s - loss: 0.0193 - val_loss: 0.1878 - 118ms/epoch - 3ms/step\n",
            "Epoch 21/100\n",
            "37/37 - 0s - loss: 0.0172 - val_loss: 0.1913 - 99ms/epoch - 3ms/step\n",
            "Epoch 22/100\n",
            "37/37 - 0s - loss: 0.0167 - val_loss: 0.1886 - 89ms/epoch - 2ms/step\n",
            "Epoch 23/100\n",
            "37/37 - 0s - loss: 0.0175 - val_loss: 0.1923 - 85ms/epoch - 2ms/step\n",
            "Epoch 24/100\n",
            "37/37 - 0s - loss: 0.0178 - val_loss: 0.1899 - 107ms/epoch - 3ms/step\n",
            "Epoch 25/100\n",
            "37/37 - 0s - loss: 0.0155 - val_loss: 0.1899 - 98ms/epoch - 3ms/step\n",
            "Epoch 26/100\n",
            "37/37 - 0s - loss: 0.0139 - val_loss: 0.1858 - 87ms/epoch - 2ms/step\n",
            "Epoch 27/100\n",
            "37/37 - 0s - loss: 0.0123 - val_loss: 0.1905 - 95ms/epoch - 3ms/step\n",
            "Epoch 28/100\n",
            "37/37 - 0s - loss: 0.0118 - val_loss: 0.1805 - 111ms/epoch - 3ms/step\n",
            "Epoch 29/100\n",
            "37/37 - 0s - loss: 0.0132 - val_loss: 0.1901 - 90ms/epoch - 2ms/step\n",
            "Epoch 30/100\n",
            "37/37 - 0s - loss: 0.0176 - val_loss: 0.1887 - 95ms/epoch - 3ms/step\n",
            "Epoch 31/100\n",
            "37/37 - 0s - loss: 0.0133 - val_loss: 0.1881 - 93ms/epoch - 3ms/step\n",
            "Epoch 32/100\n",
            "37/37 - 0s - loss: 0.0105 - val_loss: 0.1905 - 85ms/epoch - 2ms/step\n",
            "Epoch 33/100\n",
            "37/37 - 0s - loss: 0.0096 - val_loss: 0.1849 - 100ms/epoch - 3ms/step\n",
            "Epoch 34/100\n",
            "37/37 - 0s - loss: 0.0085 - val_loss: 0.1926 - 100ms/epoch - 3ms/step\n",
            "Epoch 35/100\n",
            "37/37 - 0s - loss: 0.0078 - val_loss: 0.1850 - 98ms/epoch - 3ms/step\n",
            "Epoch 36/100\n",
            "37/37 - 0s - loss: 0.0074 - val_loss: 0.1909 - 99ms/epoch - 3ms/step\n",
            "Epoch 37/100\n",
            "37/37 - 0s - loss: 0.0069 - val_loss: 0.1853 - 86ms/epoch - 2ms/step\n",
            "Epoch 38/100\n",
            "37/37 - 0s - loss: 0.0068 - val_loss: 0.1907 - 89ms/epoch - 2ms/step\n",
            "Epoch 39/100\n",
            "37/37 - 0s - loss: 0.0067 - val_loss: 0.1880 - 98ms/epoch - 3ms/step\n",
            "Epoch 40/100\n",
            "37/37 - 0s - loss: 0.0053 - val_loss: 0.1919 - 96ms/epoch - 3ms/step\n",
            "Epoch 41/100\n",
            "37/37 - 0s - loss: 0.0051 - val_loss: 0.1879 - 86ms/epoch - 2ms/step\n",
            "Epoch 42/100\n",
            "37/37 - 0s - loss: 0.0055 - val_loss: 0.1925 - 99ms/epoch - 3ms/step\n",
            "Epoch 43/100\n",
            "37/37 - 0s - loss: 0.0048 - val_loss: 0.1875 - 93ms/epoch - 3ms/step\n",
            "Epoch 44/100\n",
            "37/37 - 0s - loss: 0.0049 - val_loss: 0.1902 - 107ms/epoch - 3ms/step\n",
            "Epoch 45/100\n",
            "37/37 - 0s - loss: 0.0045 - val_loss: 0.1839 - 142ms/epoch - 4ms/step\n",
            "Epoch 46/100\n",
            "37/37 - 0s - loss: 0.0054 - val_loss: 0.1922 - 201ms/epoch - 5ms/step\n",
            "Epoch 47/100\n",
            "37/37 - 0s - loss: 0.0061 - val_loss: 0.1888 - 189ms/epoch - 5ms/step\n",
            "Epoch 48/100\n",
            "37/37 - 0s - loss: 0.0066 - val_loss: 0.1842 - 153ms/epoch - 4ms/step\n",
            "Epoch 49/100\n",
            "37/37 - 0s - loss: 0.0049 - val_loss: 0.1927 - 216ms/epoch - 6ms/step\n",
            "Epoch 50/100\n",
            "37/37 - 0s - loss: 0.0036 - val_loss: 0.1858 - 253ms/epoch - 7ms/step\n",
            "Epoch 51/100\n",
            "37/37 - 0s - loss: 0.0036 - val_loss: 0.1867 - 271ms/epoch - 7ms/step\n",
            "Epoch 52/100\n",
            "37/37 - 0s - loss: 0.0043 - val_loss: 0.1884 - 301ms/epoch - 8ms/step\n",
            "Epoch 53/100\n",
            "37/37 - 0s - loss: 0.0054 - val_loss: 0.1882 - 348ms/epoch - 9ms/step\n",
            "Epoch 54/100\n",
            "37/37 - 0s - loss: 0.0062 - val_loss: 0.1903 - 257ms/epoch - 7ms/step\n",
            "Epoch 55/100\n",
            "37/37 - 0s - loss: 0.0067 - val_loss: 0.1883 - 158ms/epoch - 4ms/step\n",
            "Epoch 56/100\n",
            "37/37 - 0s - loss: 0.0078 - val_loss: 0.1928 - 245ms/epoch - 7ms/step\n",
            "Epoch 57/100\n",
            "37/37 - 0s - loss: 0.0094 - val_loss: 0.1882 - 125ms/epoch - 3ms/step\n",
            "Epoch 58/100\n",
            "37/37 - 0s - loss: 0.0125 - val_loss: 0.1892 - 269ms/epoch - 7ms/step\n",
            "Epoch 59/100\n",
            "37/37 - 0s - loss: 0.0114 - val_loss: 0.1888 - 151ms/epoch - 4ms/step\n",
            "Epoch 60/100\n",
            "37/37 - 0s - loss: 0.0075 - val_loss: 0.1937 - 361ms/epoch - 10ms/step\n",
            "Epoch 61/100\n",
            "37/37 - 0s - loss: 0.0100 - val_loss: 0.1954 - 239ms/epoch - 6ms/step\n",
            "Epoch 62/100\n",
            "37/37 - 0s - loss: 0.0068 - val_loss: 0.1777 - 198ms/epoch - 5ms/step\n",
            "Epoch 63/100\n",
            "37/37 - 0s - loss: 0.0082 - val_loss: 0.2023 - 307ms/epoch - 8ms/step\n",
            "Epoch 64/100\n",
            "37/37 - 0s - loss: 0.0072 - val_loss: 0.1824 - 416ms/epoch - 11ms/step\n",
            "Epoch 65/100\n",
            "37/37 - 0s - loss: 0.0041 - val_loss: 0.1904 - 424ms/epoch - 11ms/step\n",
            "Epoch 66/100\n",
            "37/37 - 0s - loss: 0.0033 - val_loss: 0.1856 - 352ms/epoch - 10ms/step\n",
            "Epoch 67/100\n",
            "37/37 - 0s - loss: 0.0034 - val_loss: 0.1902 - 338ms/epoch - 9ms/step\n",
            "Epoch 68/100\n",
            "37/37 - 0s - loss: 0.0038 - val_loss: 0.1884 - 304ms/epoch - 8ms/step\n",
            "Epoch 69/100\n",
            "37/37 - 0s - loss: 0.0056 - val_loss: 0.1909 - 285ms/epoch - 8ms/step\n",
            "Epoch 70/100\n",
            "37/37 - 0s - loss: 0.0117 - val_loss: 0.1964 - 365ms/epoch - 10ms/step\n",
            "Epoch 71/100\n",
            "37/37 - 0s - loss: 0.0155 - val_loss: 0.2098 - 266ms/epoch - 7ms/step\n",
            "Epoch 72/100\n",
            "37/37 - 0s - loss: 0.0153 - val_loss: 0.1796 - 196ms/epoch - 5ms/step\n",
            "Epoch 73/100\n",
            "37/37 - 0s - loss: 0.0116 - val_loss: 0.2016 - 140ms/epoch - 4ms/step\n",
            "Epoch 74/100\n",
            "37/37 - 0s - loss: 0.0253 - val_loss: 0.1943 - 196ms/epoch - 5ms/step\n",
            "Epoch 75/100\n",
            "37/37 - 0s - loss: 0.0370 - val_loss: 0.1963 - 316ms/epoch - 9ms/step\n",
            "Epoch 76/100\n",
            "37/37 - 0s - loss: 0.0235 - val_loss: 0.2004 - 271ms/epoch - 7ms/step\n",
            "Epoch 77/100\n",
            "37/37 - 0s - loss: 0.0112 - val_loss: 0.1813 - 161ms/epoch - 4ms/step\n",
            "Epoch 78/100\n",
            "37/37 - 0s - loss: 0.0104 - val_loss: 0.1877 - 207ms/epoch - 6ms/step\n",
            "Epoch 79/100\n",
            "37/37 - 0s - loss: 0.0077 - val_loss: 0.1827 - 262ms/epoch - 7ms/step\n",
            "Epoch 80/100\n",
            "37/37 - 0s - loss: 0.0125 - val_loss: 0.1878 - 330ms/epoch - 9ms/step\n",
            "Epoch 81/100\n",
            "37/37 - 0s - loss: 0.0143 - val_loss: 0.1767 - 345ms/epoch - 9ms/step\n",
            "Epoch 82/100\n",
            "37/37 - 0s - loss: 0.0266 - val_loss: 0.2420 - 184ms/epoch - 5ms/step\n",
            "Epoch 83/100\n",
            "37/37 - 0s - loss: 0.0273 - val_loss: 0.1708 - 90ms/epoch - 2ms/step\n",
            "Epoch 84/100\n",
            "37/37 - 0s - loss: 0.0103 - val_loss: 0.1849 - 94ms/epoch - 3ms/step\n",
            "Epoch 85/100\n",
            "37/37 - 0s - loss: 0.0125 - val_loss: 0.1728 - 90ms/epoch - 2ms/step\n",
            "Epoch 86/100\n",
            "37/37 - 0s - loss: 0.0129 - val_loss: 0.1777 - 97ms/epoch - 3ms/step\n",
            "Epoch 87/100\n",
            "37/37 - 0s - loss: 0.0111 - val_loss: 0.1724 - 94ms/epoch - 3ms/step\n",
            "Epoch 88/100\n",
            "37/37 - 0s - loss: 0.0058 - val_loss: 0.1838 - 89ms/epoch - 2ms/step\n",
            "Epoch 89/100\n",
            "37/37 - 0s - loss: 0.0043 - val_loss: 0.1785 - 87ms/epoch - 2ms/step\n",
            "Epoch 90/100\n",
            "37/37 - 0s - loss: 0.0020 - val_loss: 0.1752 - 95ms/epoch - 3ms/step\n",
            "Epoch 91/100\n",
            "37/37 - 0s - loss: 0.0015 - val_loss: 0.1771 - 98ms/epoch - 3ms/step\n",
            "Epoch 92/100\n",
            "37/37 - 0s - loss: 0.0012 - val_loss: 0.1732 - 106ms/epoch - 3ms/step\n",
            "Epoch 93/100\n",
            "37/37 - 0s - loss: 0.0012 - val_loss: 0.1783 - 95ms/epoch - 3ms/step\n",
            "Epoch 94/100\n",
            "37/37 - 0s - loss: 0.0011 - val_loss: 0.1721 - 98ms/epoch - 3ms/step\n",
            "Epoch 95/100\n",
            "37/37 - 0s - loss: 0.0011 - val_loss: 0.1757 - 89ms/epoch - 2ms/step\n",
            "Epoch 96/100\n",
            "37/37 - 0s - loss: 0.0010 - val_loss: 0.1745 - 98ms/epoch - 3ms/step\n",
            "Epoch 97/100\n",
            "37/37 - 0s - loss: 0.0012 - val_loss: 0.1783 - 103ms/epoch - 3ms/step\n",
            "Epoch 98/100\n",
            "37/37 - 0s - loss: 0.0019 - val_loss: 0.1687 - 92ms/epoch - 2ms/step\n",
            "Epoch 99/100\n",
            "37/37 - 0s - loss: 0.0030 - val_loss: 0.1768 - 111ms/epoch - 3ms/step\n",
            "Epoch 100/100\n",
            "37/37 - 0s - loss: 0.0034 - val_loss: 0.1650 - 96ms/epoch - 3ms/step\n",
            "10/10 [==============================] - 0s 2ms/step\n",
            "Mean Squared Error: 0.17\n",
            "Mean Absolute Error: 0.41\n",
            "R-squared (R2): 0.86\n"
          ]
        },
        {
          "output_type": "display_data",
          "data": {
            "text/plain": [
              "<Figure size 640x480 with 1 Axes>"
            ],
            "image/png": "[encoded data removed]"
          },
          "metadata": {}
        }
      ]
    },
    {
      "cell_type": "markdown",
      "source": [
        "random forest regression model train on full data set"
      ],
      "metadata": {
        "id": "D8h4nGjFZcwv"
      }
    },
    {
      "cell_type": "code",
      "source": [
        "from sklearn.metrics import mean_absolute_error\n",
        "\n",
        "# Load your training dataset (replace 'training_data.csv' with the actual file path)\n",
        "training_data = pd.read_csv('/content/standardized_dataset.csv')\n",
        "\n",
        "# Load your testing dataset (replace 'testing_data.csv' with the actual file path)\n",
        "testing_data = pd.read_csv('/content/testdataforpredfiction.csv')\n",
        "\n",
        "# Split the training dataset into features (X_train) and the target variable (y_train)\n",
        "X_train = training_data.drop(columns=['SalePrice'])  # Replace 'target_column' with the actual target column name\n",
        "y_train = training_data['SalePrice']\n",
        "\n",
        "# Split the testing dataset into features (X_test)\n",
        "X_test = testing_data.drop(columns=['SalePrice'])  # Replace 'target_column' with the actual target column name\n",
        "\n",
        "# Standardize the input features (optional but recommended)\n",
        "scaler = StandardScaler()\n",
        "X_train = scaler.fit_transform(X_train)\n",
        "X_test = scaler.transform(X_test)\n",
        "\n",
        "# Create a Random Forest Regression model\n",
        "model = RandomForestRegressor(n_estimators=100, random_state=42)\n",
        "\n",
        "# Train the model on the training dataset\n",
        "model.fit(X_train, y_train)\n",
        "\n",
        "# Make predictions on the testing dataset\n",
        "y_pred = model.predict(X_test)\n",
        "\n",
        "#print(y_pred)\n",
        "testing_data['SalePrice'] = y_pred\n",
        "\n",
        "# Save the modified dataset with the new column (optional)\n",
        "training_data.to_csv('updated_datase1.csv', index=False)\n",
        "\n",
        "# Calculate Mean Absolute Error (MAE) on the testing data\n",
        "# Load the actual target values for testing data (if available)\n",
        "#y_test = testing_data['SalePrice']  # Replace 'target_column' with the actual target column name\n",
        "\n",
        "# Calculate MAE on the testing data\n",
        "#mae = mean_absolute_error(y_test, y_pred)\n",
        "\n",
        "#print(f'Mean Absolute Error (MAE) on Testing Data: {mae:.2f}')"
      ],
      "metadata": {
        "id": "2teLxWJnZn_r"
      },
      "execution_count": 89,
      "outputs": []
    },
    {
      "cell_type": "code",
      "source": [
        "# Load your dataset (replace 'standardized_data.csv' with the actual file path)\n",
        "data = pd.read_csv('/content/updated_datase1.csv')\n",
        "\n",
        "# Load the mean and standard deviation from the original data (if available)\n",
        "# Replace 'original_data.csv' with the path to the original dataset\n",
        "original_data = pd.read_csv('/content/data_no_outliers.csv')\n",
        "\n",
        "# Create a StandardScaler instance with the inverse transformation\n",
        "scaler = StandardScaler()\n",
        "\n",
        "# Set the mean and standard deviation values from the original data\n",
        "scaler.mean_ = original_data.mean().values\n",
        "scaler.scale_ = original_data.std().values\n",
        "\n",
        "# Destandardize or denormalize the entire dataset\n",
        "data = scaler.inverse_transform(data)\n",
        "\n",
        "# Save the destandardized data to a new CSV file\n",
        "data = pd.DataFrame(data, columns=original_data.columns)  # Ensure columns are named correctly\n",
        "data.to_csv('destandardized_data.csv', index=False)  # Replace with the desired output file name"
      ],
      "metadata": {
        "id": "oBDldfcxpLwv"
      },
      "execution_count": 93,
      "outputs": []
    },
    {
      "cell_type": "code",
      "source": [
        "# Load your dataset with label-encoded columns\n",
        "data = pd.read_csv('/content/destandardized_data.csv')\n",
        "\n",
        "# Create a LabelEncoder instance\n",
        "label_encoder = LabelEncoder()\n",
        "\n",
        "# Iterate through columns and decode numeric values\n",
        "for column in data.columns:\n",
        "    if data[column].dtype == 'int64':  # Check if the column contains encoded values\n",
        "        data[column] = label_encoder.fit(data[column]).inverse_transform(data[column])\n",
        "\n",
        "# Save the decoded data to a new CSV file\n",
        "data.to_csv('decoded_dataset.csv', index=False)  # Replace with your desired output file name"
      ],
      "metadata": {
        "id": "k8Qk8gmwqteI"
      },
      "execution_count": 96,
      "outputs": []
    }
  ]
}